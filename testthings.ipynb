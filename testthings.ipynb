{
 "cells": [
  {
   "cell_type": "code",
   "execution_count": 6,
   "metadata": {},
   "outputs": [
    {
     "name": "stdout",
     "output_type": "stream",
     "text": [
      "test\n"
     ]
    }
   ],
   "source": [
    "from lxml import etree\n",
    "filepath = r'C:\\Users\\Desarrollo1.rpa\\Documents\\objectrepository-treemaker\\TestData\\Process\\APIGES_Mailing_Lib.xaml'\n",
    "\n",
    "with open(filepath, 'r', encoding=\"utf-8\") as file:\n",
    "    # Parse the XML with lxml\n",
    "    tree = etree.parse(filepath)\n",
    "print(\"test\")"
   ]
  },
  {
   "cell_type": "code",
   "execution_count": 18,
   "metadata": {},
   "outputs": [
    {
     "name": "stdout",
     "output_type": "stream",
     "text": [
      "Key: cet, Library: ClarkeModetRPA.006Apiges\n"
     ]
    }
   ],
   "source": [
    "root = tree.getroot()\n",
    "\n",
    "# Define a dictionary to store the namespaces\n",
    "namespaces = {}\n",
    "\n",
    "# Iterate through the attributes of the root element to find the namespaces\n",
    "for key, value in root.nsmap.items():\n",
    "    if \"Clarke\" in value:\n",
    "        # Extract the namespace prefix and URI\n",
    "        library = value.split('assembly=')[-1]\n",
    "        namespaces[key] = library\n",
    "\n",
    "# Print the namespaces that start with \"Clarke\"\n",
    "for prefix, uri in namespaces.items():\n",
    "    print(f\"Key: {prefix}, Library: {uri}\")"
   ]
  },
  {
   "cell_type": "code",
   "execution_count": 28,
   "metadata": {},
   "outputs": [
    {
     "name": "stdout",
     "output_type": "stream",
     "text": [
      "Select Text Template By Code ()  Select_Text_Template_By_Code\n"
     ]
    }
   ],
   "source": [
    "for namespace in namespaces.keys():\n",
    "    cet_elements = root.xpath(\"//*[starts-with(name(), 'cet:')]\")\n",
    "    for element in cet_elements:\n",
    "        displayname = element.get(\"DisplayName\")\n",
    "        tagname = element.tag.split('}')[-1]\n",
    "        print(f'{displayname}  {tagname}')"
   ]
  },
  {
   "cell_type": "code",
   "execution_count": 2,
   "metadata": {},
   "outputs": [
    {
     "name": "stdout",
     "output_type": "stream",
     "text": [
      "['Test\\\\CreateNewAct_TestCase.xaml', 'Test\\\\Fill In General Data_TestCase.xaml', 'Test\\\\Create Patent File Classification_TestCase.xaml', 'Test\\\\Create Inventor_TestCase.xaml', 'Test\\\\Select Titular Expediente_TestCase.xaml', 'Test\\\\Login_TestCase.xaml', 'Test\\\\OpenExpedienteTab_TestCase.xaml', 'Test\\\\SelectFilter_TestCase.xaml', 'Test\\\\CloseExpedienteWindow_TestCase.xaml', 'Test\\\\ShowActsList_TestCase.xaml', 'Test\\\\ShowGeneralData_TestCase.xaml', 'Test\\\\ShowPaymentsWindow_TestCase.xaml', 'Test\\\\GetPaymentsData_TestCase.xaml', 'Test\\\\CreateNewPayment_TestCase.xaml', 'Test\\\\ClosePaymentsWindow_TestCase.xaml', 'Test\\\\GetRootDirectory_TestCase.xaml', 'Test\\\\GetNextPaymentInfo_TestCase.xaml', 'Test\\\\GetMaintenanceFreeCheck_TestCase.xaml', 'Test\\\\Recover Data Act_TestCase.xaml', 'Test\\\\SearchExpedientes_TestCase.xaml', 'Test\\\\GetTableDomicilios_TestCase.xaml', 'Test\\\\GetObservationValue_TestCase.xaml', 'Test\\\\SelectDocumentsTab_TestCase.xaml', 'Test\\\\FindDocumentByName_TestCase.xaml', 'Test\\\\OpenTextSelectionWindow_TestCase.xaml', 'Test\\\\SelectTextTemplateByCode_TestCase.xaml', 'Test\\\\GetNumberOfAssociatedExpedientes_TestCase.xaml', 'Test\\\\CheckRowIsDuplicated_TestCase.xaml', 'Test\\\\CloseTextsWindow_TestCase.xaml', 'Test\\\\GetEmailsByRow_TestCase.xaml', 'Test\\\\GenerateTexts_TestCase.xaml', 'Test\\\\OpenEmailMessageEditorByRow_TestCase.xaml', 'Test\\\\AttachFileToEmail_TestCase.xaml', 'Test\\\\FillToCC_TestCase.xaml', 'Test\\\\CloseEmailMessageEditorWindow_TestCase.xaml', 'Test\\\\SendEmail_TestCase.xaml', 'Test\\\\DeleteTextByRow_TestCase.xaml', 'Test\\\\CheckRowIsSended_TestCase.xaml', 'Test\\\\MenuExpedientesExcluir_Test.xaml', 'Test\\\\Excluir Del Listado de Expediente Test.xaml', 'Test\\\\Listados Informe Personalizado Teste.xaml', 'Test\\\\Create New Task_TestCase.xaml', 'Test\\\\Test Get Result Number.xaml', 'Test\\\\Search Expedientes For ID_TestCase.xaml', 'Test\\\\ExportExpedientes_TestCase.xaml', 'Test\\\\ActualizarExpedientes_TestCase.xaml', 'Expediente\\\\Class tab\\\\TestCaseChangeClass.xaml', 'Test\\\\CehckRowGenerate.xaml', 'Test\\\\TestOpenContactWindow.xaml', 'Test\\\\CloseContactWindowTest.xaml', 'Test\\\\Update Task_TestCase.xaml', 'Test\\\\Select Inventor_TestCase.xaml', 'Expediente\\\\Texts Window\\\\Rename Generated Mail test case.xaml', 'Test\\\\TestCase_ClosePopupApigesErrorInstaled.xaml', 'Test\\\\TestCase_Check Act Title Acto Exist.xaml', 'Expediente\\\\General Data\\\\Documents\\\\TestCaseMoveDocument.xaml', 'Test\\\\TestCase_Get Table Test.xaml', 'Test\\\\TestCase_Write Años And Fin Vida Legal.xaml']\n"
     ]
    }
   ],
   "source": [
    "import json\n",
    "\n",
    "filepath = r'TestData\\Projects\\project.json'\n",
    "with open(filepath, 'r', encoding=\"utf-8\") as file:\n",
    "    # Parse the XML with lxml\n",
    "    jsondata = json.load(file)\n",
    "    listoffiles = [item[\"fileName\"] for item in jsondata[\"designOptions\"][\"fileInfoCollection\"]]\n",
    "    print(listoffiles)"
   ]
  },
  {
   "cell_type": "code",
   "execution_count": 6,
   "metadata": {},
   "outputs": [
    {
     "data": {
      "text/plain": [
       "'CreateNewAct_TestCase'"
      ]
     },
     "execution_count": 6,
     "metadata": {},
     "output_type": "execute_result"
    }
   ],
   "source": [
    "muit = listoffiles[0]\n",
    "muit\n",
    "import os\n",
    "\n",
    "os.path.splitext(muit.split('\\\\')[-1])[0]"
   ]
  }
 ],
 "metadata": {
  "kernelspec": {
   "display_name": ".venv",
   "language": "python",
   "name": "python3"
  },
  "language_info": {
   "codemirror_mode": {
    "name": "ipython",
    "version": 3
   },
   "file_extension": ".py",
   "mimetype": "text/x-python",
   "name": "python",
   "nbconvert_exporter": "python",
   "pygments_lexer": "ipython3",
   "version": "3.11.3"
  }
 },
 "nbformat": 4,
 "nbformat_minor": 2
}
