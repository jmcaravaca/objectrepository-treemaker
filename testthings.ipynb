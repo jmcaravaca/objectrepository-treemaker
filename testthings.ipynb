{
 "cells": [
  {
   "cell_type": "code",
   "execution_count": 6,
   "metadata": {},
   "outputs": [
    {
     "name": "stdout",
     "output_type": "stream",
     "text": [
      "test\n"
     ]
    }
   ],
   "source": [
    "from lxml import etree\n",
    "filepath = r'C:\\Users\\Desarrollo1.rpa\\Documents\\objectrepository-treemaker\\TestData\\Process\\APIGES_Mailing_Lib.xaml'\n",
    "\n",
    "with open(filepath, 'r', encoding=\"utf-8\") as file:\n",
    "    # Parse the XML with lxml\n",
    "    tree = etree.parse(filepath)\n",
    "print(\"test\")"
   ]
  },
  {
   "cell_type": "code",
   "execution_count": 18,
   "metadata": {},
   "outputs": [
    {
     "name": "stdout",
     "output_type": "stream",
     "text": [
      "Key: cet, Library: ClarkeModetRPA.006Apiges\n"
     ]
    }
   ],
   "source": [
    "root = tree.getroot()\n",
    "\n",
    "# Define a dictionary to store the namespaces\n",
    "namespaces = {}\n",
    "\n",
    "# Iterate through the attributes of the root element to find the namespaces\n",
    "for key, value in root.nsmap.items():\n",
    "    if \"Clarke\" in value:\n",
    "        # Extract the namespace prefix and URI\n",
    "        library = value.split('assembly=')[-1]\n",
    "        namespaces[key] = library\n",
    "\n",
    "# Print the namespaces that start with \"Clarke\"\n",
    "for prefix, uri in namespaces.items():\n",
    "    print(f\"Key: {prefix}, Library: {uri}\")"
   ]
  },
  {
   "cell_type": "code",
   "execution_count": 28,
   "metadata": {},
   "outputs": [
    {
     "name": "stdout",
     "output_type": "stream",
     "text": [
      "Select Text Template By Code ()  Select_Text_Template_By_Code\n"
     ]
    }
   ],
   "source": [
    "for namespace in namespaces.keys():\n",
    "    cet_elements = root.xpath(\"//*[starts-with(name(), 'cet:')]\")\n",
    "    for element in cet_elements:\n",
    "        displayname = element.get(\"DisplayName\")\n",
    "        tagname = element.tag.split('}')[-1]\n",
    "        print(f'{displayname}  {tagname}')"
   ]
  },
  {
   "cell_type": "code",
   "execution_count": null,
   "metadata": {},
   "outputs": [],
   "source": []
  }
 ],
 "metadata": {
  "kernelspec": {
   "display_name": ".venv",
   "language": "python",
   "name": "python3"
  },
  "language_info": {
   "codemirror_mode": {
    "name": "ipython",
    "version": 3
   },
   "file_extension": ".py",
   "mimetype": "text/x-python",
   "name": "python",
   "nbconvert_exporter": "python",
   "pygments_lexer": "ipython3",
   "version": "3.11.3"
  }
 },
 "nbformat": 4,
 "nbformat_minor": 2
}
